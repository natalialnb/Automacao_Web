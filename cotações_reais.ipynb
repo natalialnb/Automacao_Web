{
 "cells": [
  {
   "cell_type": "code",
   "execution_count": 209,
   "id": "9cee8462",
   "metadata": {},
   "outputs": [],
   "source": [
    "import pandas as pd"
   ]
  },
  {
   "cell_type": "code",
   "execution_count": 210,
   "id": "a0d58384",
   "metadata": {},
   "outputs": [],
   "source": [
    "from selenium import webdriver #cria navegador\n",
    "from selenium.webdriver.common.keys import Keys #permite vc escrever no navegador\n",
    "from selenium.webdriver.common.by import By # selecionar itens no navegador"
   ]
  },
  {
   "cell_type": "code",
   "execution_count": 211,
   "id": "60ea7fd9",
   "metadata": {},
   "outputs": [],
   "source": [
    "#vai abrir a janela do chrome automaticamente\n",
    "navegador = webdriver.Chrome()"
   ]
  },
  {
   "cell_type": "code",
   "execution_count": 212,
   "id": "1ff5b21b",
   "metadata": {},
   "outputs": [],
   "source": [
    "#entrar no google\n",
    "navegador.get('https://www.google.com/')"
   ]
  },
  {
   "cell_type": "code",
   "execution_count": 213,
   "id": "f5324244",
   "metadata": {},
   "outputs": [],
   "source": [
    "navegador.find_element(\"xpath\", '//*[@id=\"L2AGLb\"]/div').click()"
   ]
  },
  {
   "cell_type": "code",
   "execution_count": 214,
   "id": "481c4d4f",
   "metadata": {},
   "outputs": [],
   "source": [
    "#pesquisar - esqcrever o que vai pesquisar:\n",
    "navegador.find_element(\"xpath\", '//*[@id=\"APjFqb\"]').send_keys('cotação dolar')"
   ]
  },
  {
   "cell_type": "code",
   "execution_count": 215,
   "id": "8a0400d5",
   "metadata": {},
   "outputs": [],
   "source": [
    "#apertar o enter:\n",
    "navegador.find_element(\"xpath\", '//*[@id=\"APjFqb\"]').send_keys(Keys.ENTER)"
   ]
  },
  {
   "cell_type": "code",
   "execution_count": 216,
   "id": "171c60af",
   "metadata": {},
   "outputs": [
    {
     "name": "stdout",
     "output_type": "stream",
     "text": [
      "0.9377449999999999\n"
     ]
    }
   ],
   "source": [
    "#pegar a cotação que esta no google:\n",
    "cotacao_dolar = navegador.find_element('xpath', '//*[@id=\"knowledge-currency__updatable-data-column\"]/div[1]/div[2]/span[1]').get_attribute('data-value')\n",
    "print(cotacao_dolar)"
   ]
  },
  {
   "cell_type": "code",
   "execution_count": 217,
   "id": "d929fed4",
   "metadata": {},
   "outputs": [],
   "source": [
    "navegador.get('https://www.google.com/')\n"
   ]
  },
  {
   "cell_type": "code",
   "execution_count": 218,
   "id": "a19fb122",
   "metadata": {},
   "outputs": [],
   "source": [
    "navegador.find_element(\"xpath\", '//*[@id=\"APjFqb\"]').click()"
   ]
  },
  {
   "cell_type": "code",
   "execution_count": 219,
   "id": "ab4a1106",
   "metadata": {},
   "outputs": [],
   "source": [
    "navegador.find_element(\"xpath\", '//*[@id=\"APjFqb\"]').send_keys('cotação real')"
   ]
  },
  {
   "cell_type": "code",
   "execution_count": 220,
   "id": "344ee959",
   "metadata": {},
   "outputs": [],
   "source": [
    "navegador.find_element(\"xpath\", '//*[@id=\"APjFqb\"]').send_keys(Keys.ENTER)"
   ]
  },
  {
   "cell_type": "code",
   "execution_count": 221,
   "id": "18dc5a16",
   "metadata": {},
   "outputs": [
    {
     "name": "stdout",
     "output_type": "stream",
     "text": [
      "0.19050177140000002\n"
     ]
    }
   ],
   "source": [
    "#pegar a cotação que esta no google:\n",
    "cotacao_real = navegador.find_element('xpath', '//*[@id=\"knowledge-currency__updatable-data-column\"]/div[1]/div[2]/span[1]').get_attribute('data-value')\n",
    "print(cotacao_real)"
   ]
  },
  {
   "cell_type": "code",
   "execution_count": 222,
   "id": "36c9e314",
   "metadata": {},
   "outputs": [],
   "source": [
    "#fechar navegador\n",
    "navegador.quit()"
   ]
  },
  {
   "cell_type": "markdown",
   "id": "29cdd5d6",
   "metadata": {},
   "source": [
    "# Atualização da base de dados com os valores das moedas atualizados:"
   ]
  },
  {
   "cell_type": "code",
   "execution_count": 226,
   "id": "6d08c7b5",
   "metadata": {},
   "outputs": [],
   "source": [
    "df = pd.read_excel('Produtos.xlsx')"
   ]
  },
  {
   "cell_type": "code",
   "execution_count": 227,
   "id": "c352bc97",
   "metadata": {},
   "outputs": [
    {
     "data": {
      "text/html": [
       "<div>\n",
       "<style scoped>\n",
       "    .dataframe tbody tr th:only-of-type {\n",
       "        vertical-align: middle;\n",
       "    }\n",
       "\n",
       "    .dataframe tbody tr th {\n",
       "        vertical-align: top;\n",
       "    }\n",
       "\n",
       "    .dataframe thead th {\n",
       "        text-align: right;\n",
       "    }\n",
       "</style>\n",
       "<table border=\"1\" class=\"dataframe\">\n",
       "  <thead>\n",
       "    <tr style=\"text-align: right;\">\n",
       "      <th></th>\n",
       "      <th>Produtos</th>\n",
       "      <th>Preço Original</th>\n",
       "      <th>Moeda</th>\n",
       "      <th>Cotação</th>\n",
       "      <th>Preço de Compra</th>\n",
       "      <th>Margem</th>\n",
       "      <th>Preço de Venda</th>\n",
       "    </tr>\n",
       "  </thead>\n",
       "  <tbody>\n",
       "    <tr>\n",
       "      <th>0</th>\n",
       "      <td>Câmera Canon</td>\n",
       "      <td>999.99</td>\n",
       "      <td>Dólar</td>\n",
       "      <td>5</td>\n",
       "      <td>4999.95</td>\n",
       "      <td>1.40</td>\n",
       "      <td>6999.930</td>\n",
       "    </tr>\n",
       "    <tr>\n",
       "      <th>1</th>\n",
       "      <td>Carro Renault</td>\n",
       "      <td>4500.00</td>\n",
       "      <td>Euro</td>\n",
       "      <td>6</td>\n",
       "      <td>27000.00</td>\n",
       "      <td>2.00</td>\n",
       "      <td>54000.000</td>\n",
       "    </tr>\n",
       "    <tr>\n",
       "      <th>2</th>\n",
       "      <td>Notebook Dell</td>\n",
       "      <td>899.99</td>\n",
       "      <td>Dólar</td>\n",
       "      <td>5</td>\n",
       "      <td>4499.95</td>\n",
       "      <td>1.70</td>\n",
       "      <td>7649.915</td>\n",
       "    </tr>\n",
       "    <tr>\n",
       "      <th>3</th>\n",
       "      <td>IPhone</td>\n",
       "      <td>799.00</td>\n",
       "      <td>Dólar</td>\n",
       "      <td>5</td>\n",
       "      <td>3995.00</td>\n",
       "      <td>1.70</td>\n",
       "      <td>6791.500</td>\n",
       "    </tr>\n",
       "    <tr>\n",
       "      <th>4</th>\n",
       "      <td>Carro Fiat</td>\n",
       "      <td>3000.00</td>\n",
       "      <td>Euro</td>\n",
       "      <td>6</td>\n",
       "      <td>18000.00</td>\n",
       "      <td>1.90</td>\n",
       "      <td>34200.000</td>\n",
       "    </tr>\n",
       "    <tr>\n",
       "      <th>5</th>\n",
       "      <td>Celular Xiaomi</td>\n",
       "      <td>480.48</td>\n",
       "      <td>Dólar</td>\n",
       "      <td>5</td>\n",
       "      <td>2402.40</td>\n",
       "      <td>2.00</td>\n",
       "      <td>4804.800</td>\n",
       "    </tr>\n",
       "    <tr>\n",
       "      <th>6</th>\n",
       "      <td>Joia 20g</td>\n",
       "      <td>20.00</td>\n",
       "      <td>Ouro</td>\n",
       "      <td>350</td>\n",
       "      <td>7000.00</td>\n",
       "      <td>1.15</td>\n",
       "      <td>8050.000</td>\n",
       "    </tr>\n",
       "  </tbody>\n",
       "</table>\n",
       "</div>"
      ],
      "text/plain": [
       "         Produtos  Preço Original  Moeda  Cotação  Preço de Compra  Margem  \\\n",
       "0    Câmera Canon          999.99  Dólar        5          4999.95    1.40   \n",
       "1   Carro Renault         4500.00   Euro        6         27000.00    2.00   \n",
       "2   Notebook Dell          899.99  Dólar        5          4499.95    1.70   \n",
       "3          IPhone          799.00  Dólar        5          3995.00    1.70   \n",
       "4      Carro Fiat         3000.00   Euro        6         18000.00    1.90   \n",
       "5  Celular Xiaomi          480.48  Dólar        5          2402.40    2.00   \n",
       "6        Joia 20g           20.00   Ouro      350          7000.00    1.15   \n",
       "\n",
       "   Preço de Venda  \n",
       "0        6999.930  \n",
       "1       54000.000  \n",
       "2        7649.915  \n",
       "3        6791.500  \n",
       "4       34200.000  \n",
       "5        4804.800  \n",
       "6        8050.000  "
      ]
     },
     "metadata": {},
     "output_type": "display_data"
    }
   ],
   "source": [
    "display(df)"
   ]
  },
  {
   "cell_type": "code",
   "execution_count": 230,
   "id": "210bfaa6",
   "metadata": {},
   "outputs": [],
   "source": [
    "#editar as colunas de cotação\n",
    "df.loc[df['Moeda'] == 'Dólar', 'Cotação'] = float(cotacao_dolar)\n",
    "df.loc[df['Moeda'] == 'Euro', 'Cotação'] = float(cotacao_real)\n"
   ]
  },
  {
   "cell_type": "code",
   "execution_count": 231,
   "id": "f27ac53e",
   "metadata": {},
   "outputs": [
    {
     "data": {
      "text/html": [
       "<div>\n",
       "<style scoped>\n",
       "    .dataframe tbody tr th:only-of-type {\n",
       "        vertical-align: middle;\n",
       "    }\n",
       "\n",
       "    .dataframe tbody tr th {\n",
       "        vertical-align: top;\n",
       "    }\n",
       "\n",
       "    .dataframe thead th {\n",
       "        text-align: right;\n",
       "    }\n",
       "</style>\n",
       "<table border=\"1\" class=\"dataframe\">\n",
       "  <thead>\n",
       "    <tr style=\"text-align: right;\">\n",
       "      <th></th>\n",
       "      <th>Produtos</th>\n",
       "      <th>Preço Original</th>\n",
       "      <th>Moeda</th>\n",
       "      <th>Cotação</th>\n",
       "      <th>Preço de Compra</th>\n",
       "      <th>Margem</th>\n",
       "      <th>Preço de Venda</th>\n",
       "    </tr>\n",
       "  </thead>\n",
       "  <tbody>\n",
       "    <tr>\n",
       "      <th>0</th>\n",
       "      <td>Câmera Canon</td>\n",
       "      <td>999.99</td>\n",
       "      <td>Dólar</td>\n",
       "      <td>0.937745</td>\n",
       "      <td>4999.95</td>\n",
       "      <td>1.40</td>\n",
       "      <td>6999.930</td>\n",
       "    </tr>\n",
       "    <tr>\n",
       "      <th>1</th>\n",
       "      <td>Carro Renault</td>\n",
       "      <td>4500.00</td>\n",
       "      <td>Euro</td>\n",
       "      <td>0.190502</td>\n",
       "      <td>27000.00</td>\n",
       "      <td>2.00</td>\n",
       "      <td>54000.000</td>\n",
       "    </tr>\n",
       "    <tr>\n",
       "      <th>2</th>\n",
       "      <td>Notebook Dell</td>\n",
       "      <td>899.99</td>\n",
       "      <td>Dólar</td>\n",
       "      <td>0.937745</td>\n",
       "      <td>4499.95</td>\n",
       "      <td>1.70</td>\n",
       "      <td>7649.915</td>\n",
       "    </tr>\n",
       "    <tr>\n",
       "      <th>3</th>\n",
       "      <td>IPhone</td>\n",
       "      <td>799.00</td>\n",
       "      <td>Dólar</td>\n",
       "      <td>0.937745</td>\n",
       "      <td>3995.00</td>\n",
       "      <td>1.70</td>\n",
       "      <td>6791.500</td>\n",
       "    </tr>\n",
       "    <tr>\n",
       "      <th>4</th>\n",
       "      <td>Carro Fiat</td>\n",
       "      <td>3000.00</td>\n",
       "      <td>Euro</td>\n",
       "      <td>0.190502</td>\n",
       "      <td>18000.00</td>\n",
       "      <td>1.90</td>\n",
       "      <td>34200.000</td>\n",
       "    </tr>\n",
       "    <tr>\n",
       "      <th>5</th>\n",
       "      <td>Celular Xiaomi</td>\n",
       "      <td>480.48</td>\n",
       "      <td>Dólar</td>\n",
       "      <td>0.937745</td>\n",
       "      <td>2402.40</td>\n",
       "      <td>2.00</td>\n",
       "      <td>4804.800</td>\n",
       "    </tr>\n",
       "    <tr>\n",
       "      <th>6</th>\n",
       "      <td>Joia 20g</td>\n",
       "      <td>20.00</td>\n",
       "      <td>Ouro</td>\n",
       "      <td>350.000000</td>\n",
       "      <td>7000.00</td>\n",
       "      <td>1.15</td>\n",
       "      <td>8050.000</td>\n",
       "    </tr>\n",
       "  </tbody>\n",
       "</table>\n",
       "</div>"
      ],
      "text/plain": [
       "         Produtos  Preço Original  Moeda     Cotação  Preço de Compra  Margem  \\\n",
       "0    Câmera Canon          999.99  Dólar    0.937745          4999.95    1.40   \n",
       "1   Carro Renault         4500.00   Euro    0.190502         27000.00    2.00   \n",
       "2   Notebook Dell          899.99  Dólar    0.937745          4499.95    1.70   \n",
       "3          IPhone          799.00  Dólar    0.937745          3995.00    1.70   \n",
       "4      Carro Fiat         3000.00   Euro    0.190502         18000.00    1.90   \n",
       "5  Celular Xiaomi          480.48  Dólar    0.937745          2402.40    2.00   \n",
       "6        Joia 20g           20.00   Ouro  350.000000          7000.00    1.15   \n",
       "\n",
       "   Preço de Venda  \n",
       "0        6999.930  \n",
       "1       54000.000  \n",
       "2        7649.915  \n",
       "3        6791.500  \n",
       "4       34200.000  \n",
       "5        4804.800  \n",
       "6        8050.000  "
      ]
     },
     "metadata": {},
     "output_type": "display_data"
    }
   ],
   "source": [
    "display(df)"
   ]
  },
  {
   "cell_type": "code",
   "execution_count": 233,
   "id": "6763e199",
   "metadata": {},
   "outputs": [],
   "source": [
    "df['Preço de Compra'] = df['Cotação']*df['Preço Original']"
   ]
  },
  {
   "cell_type": "code",
   "execution_count": 234,
   "id": "ff0115cf",
   "metadata": {},
   "outputs": [
    {
     "data": {
      "text/html": [
       "<div>\n",
       "<style scoped>\n",
       "    .dataframe tbody tr th:only-of-type {\n",
       "        vertical-align: middle;\n",
       "    }\n",
       "\n",
       "    .dataframe tbody tr th {\n",
       "        vertical-align: top;\n",
       "    }\n",
       "\n",
       "    .dataframe thead th {\n",
       "        text-align: right;\n",
       "    }\n",
       "</style>\n",
       "<table border=\"1\" class=\"dataframe\">\n",
       "  <thead>\n",
       "    <tr style=\"text-align: right;\">\n",
       "      <th></th>\n",
       "      <th>Produtos</th>\n",
       "      <th>Preço Original</th>\n",
       "      <th>Moeda</th>\n",
       "      <th>Cotação</th>\n",
       "      <th>Preço de Compra</th>\n",
       "      <th>Margem</th>\n",
       "      <th>Preço de Venda</th>\n",
       "    </tr>\n",
       "  </thead>\n",
       "  <tbody>\n",
       "    <tr>\n",
       "      <th>0</th>\n",
       "      <td>Câmera Canon</td>\n",
       "      <td>999.99</td>\n",
       "      <td>Dólar</td>\n",
       "      <td>0.937745</td>\n",
       "      <td>937.735623</td>\n",
       "      <td>1.40</td>\n",
       "      <td>1312.829872</td>\n",
       "    </tr>\n",
       "    <tr>\n",
       "      <th>1</th>\n",
       "      <td>Carro Renault</td>\n",
       "      <td>4500.00</td>\n",
       "      <td>Euro</td>\n",
       "      <td>0.190502</td>\n",
       "      <td>857.257971</td>\n",
       "      <td>2.00</td>\n",
       "      <td>1714.515943</td>\n",
       "    </tr>\n",
       "    <tr>\n",
       "      <th>2</th>\n",
       "      <td>Notebook Dell</td>\n",
       "      <td>899.99</td>\n",
       "      <td>Dólar</td>\n",
       "      <td>0.937745</td>\n",
       "      <td>843.961123</td>\n",
       "      <td>1.70</td>\n",
       "      <td>1434.733908</td>\n",
       "    </tr>\n",
       "    <tr>\n",
       "      <th>3</th>\n",
       "      <td>IPhone</td>\n",
       "      <td>799.00</td>\n",
       "      <td>Dólar</td>\n",
       "      <td>0.937745</td>\n",
       "      <td>749.258255</td>\n",
       "      <td>1.70</td>\n",
       "      <td>1273.739034</td>\n",
       "    </tr>\n",
       "    <tr>\n",
       "      <th>4</th>\n",
       "      <td>Carro Fiat</td>\n",
       "      <td>3000.00</td>\n",
       "      <td>Euro</td>\n",
       "      <td>0.190502</td>\n",
       "      <td>571.505314</td>\n",
       "      <td>1.90</td>\n",
       "      <td>1085.860097</td>\n",
       "    </tr>\n",
       "    <tr>\n",
       "      <th>5</th>\n",
       "      <td>Celular Xiaomi</td>\n",
       "      <td>480.48</td>\n",
       "      <td>Dólar</td>\n",
       "      <td>0.937745</td>\n",
       "      <td>450.567718</td>\n",
       "      <td>2.00</td>\n",
       "      <td>901.135435</td>\n",
       "    </tr>\n",
       "    <tr>\n",
       "      <th>6</th>\n",
       "      <td>Joia 20g</td>\n",
       "      <td>20.00</td>\n",
       "      <td>Ouro</td>\n",
       "      <td>350.000000</td>\n",
       "      <td>7000.000000</td>\n",
       "      <td>1.15</td>\n",
       "      <td>8050.000000</td>\n",
       "    </tr>\n",
       "  </tbody>\n",
       "</table>\n",
       "</div>"
      ],
      "text/plain": [
       "         Produtos  Preço Original  Moeda     Cotação  Preço de Compra  Margem  \\\n",
       "0    Câmera Canon          999.99  Dólar    0.937745       937.735623    1.40   \n",
       "1   Carro Renault         4500.00   Euro    0.190502       857.257971    2.00   \n",
       "2   Notebook Dell          899.99  Dólar    0.937745       843.961123    1.70   \n",
       "3          IPhone          799.00  Dólar    0.937745       749.258255    1.70   \n",
       "4      Carro Fiat         3000.00   Euro    0.190502       571.505314    1.90   \n",
       "5  Celular Xiaomi          480.48  Dólar    0.937745       450.567718    2.00   \n",
       "6        Joia 20g           20.00   Ouro  350.000000      7000.000000    1.15   \n",
       "\n",
       "   Preço de Venda  \n",
       "0     1312.829872  \n",
       "1     1714.515943  \n",
       "2     1434.733908  \n",
       "3     1273.739034  \n",
       "4     1085.860097  \n",
       "5      901.135435  \n",
       "6     8050.000000  "
      ]
     },
     "metadata": {},
     "output_type": "display_data"
    }
   ],
   "source": [
    "df['Preço de Venda'] = df['Preço de Compra']*df['Margem']\n",
    "display(df)"
   ]
  },
  {
   "cell_type": "markdown",
   "id": "dc8f0b89",
   "metadata": {},
   "source": [
    "# Agora vamos exportar a nova base de preços atualizada:"
   ]
  },
  {
   "cell_type": "code",
   "execution_count": 235,
   "id": "7bfc0f76",
   "metadata": {},
   "outputs": [],
   "source": [
    "#tabela.to_excel('Produtos Novo.xlsx', index=False)"
   ]
  },
  {
   "cell_type": "code",
   "execution_count": null,
   "id": "2fd7c72f",
   "metadata": {},
   "outputs": [],
   "source": []
  }
 ],
 "metadata": {
  "kernelspec": {
   "display_name": "Python 3 (ipykernel)",
   "language": "python",
   "name": "python3"
  },
  "language_info": {
   "codemirror_mode": {
    "name": "ipython",
    "version": 3
   },
   "file_extension": ".py",
   "mimetype": "text/x-python",
   "name": "python",
   "nbconvert_exporter": "python",
   "pygments_lexer": "ipython3",
   "version": "3.9.13"
  },
  "toc": {
   "base_numbering": 1,
   "nav_menu": {},
   "number_sections": false,
   "sideBar": true,
   "skip_h1_title": false,
   "title_cell": "Table of Contents",
   "title_sidebar": "Contents",
   "toc_cell": false,
   "toc_position": {
    "height": "calc(100% - 180px)",
    "left": "10px",
    "top": "150px",
    "width": "303.542px"
   },
   "toc_section_display": true,
   "toc_window_display": true
  }
 },
 "nbformat": 4,
 "nbformat_minor": 5
}
